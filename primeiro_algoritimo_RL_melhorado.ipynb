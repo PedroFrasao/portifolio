{
  "nbformat": 4,
  "nbformat_minor": 0,
  "metadata": {
    "colab": {
      "provenance": []
    },
    "kernelspec": {
      "name": "python3",
      "display_name": "Python 3"
    },
    "language_info": {
      "name": "python"
    }
  },
  "cells": [
    {
      "cell_type": "code",
      "execution_count": 62,
      "metadata": {
        "id": "2ROu51pSfeQt"
      },
      "outputs": [],
      "source": [
        "import gym\n",
        "import numpy as np\n",
        "import time\n",
        "import random\n",
        "from IPython.display import clear_output\n",
        "env = gym.make('FrozenLake-v1')\n"
      ]
    },
    {
      "cell_type": "code",
      "source": [
        "colunas_acoes = env.action_space.n\n",
        "linhas_estados = env.observation_space.n\n",
        "\n",
        "#tabela_q = np.random.rand(linhas_estados, colunas_acoes)\n",
        "tabela_q = np.zeros((linhas_estados, colunas_acoes))\n",
        "#tabela_q = np.ones((linhas_estados, colunas_acoes))\n",
        "print(tabela_q)"
      ],
      "metadata": {
        "colab": {
          "base_uri": "https://localhost:8080/"
        },
        "id": "mUlkscHbghO_",
        "outputId": "f24139b4-4dfe-4a99-aaf2-7dd2618cb9e2"
      },
      "execution_count": 63,
      "outputs": [
        {
          "output_type": "stream",
          "name": "stdout",
          "text": [
            "[[0. 0. 0. 0.]\n",
            " [0. 0. 0. 0.]\n",
            " [0. 0. 0. 0.]\n",
            " [0. 0. 0. 0.]\n",
            " [0. 0. 0. 0.]\n",
            " [0. 0. 0. 0.]\n",
            " [0. 0. 0. 0.]\n",
            " [0. 0. 0. 0.]\n",
            " [0. 0. 0. 0.]\n",
            " [0. 0. 0. 0.]\n",
            " [0. 0. 0. 0.]\n",
            " [0. 0. 0. 0.]\n",
            " [0. 0. 0. 0.]\n",
            " [0. 0. 0. 0.]\n",
            " [0. 0. 0. 0.]\n",
            " [0. 0. 0. 0.]]\n"
          ]
        }
      ]
    },
    {
      "cell_type": "code",
      "source": [
        "#algoritimo que esta dando certo\n",
        "\n",
        "todas_recompensas = []\n",
        "\n",
        "num_episodios = 10000\n",
        "num_passos_por_episodio = 100\n",
        "\n",
        "taxa_de_aprendizado = 0.1\n",
        "taxa_de_desconto = 0.99\n",
        "\n",
        "taxa_exploration = 0.1  # ou qualquer valor no intervalo [0, 1]\n",
        "max_taxa_exploration = 1\n",
        "min_taxa_exploration = 0.01\n",
        "taxa_de_decaimento_da_exploração = 0.001\n",
        "\n",
        "# Q-learning algoritmo\n",
        "for episodio in range(num_episodios):\n",
        "    estado = env.reset()\n",
        "    done = False\n",
        "    recompensas_episodio_atual = 0\n",
        "\n",
        "    for passo in range(num_passos_por_episodio):\n",
        "        limite_taxa_exploration = random.uniform(0, 1)\n",
        "\n",
        "        if limite_taxa_exploration > max_taxa_exploration:  # Comparar com max_taxa_exploration\n",
        "            action = np.argmax(tabela_q[estado, :])\n",
        "        else:\n",
        "            action = env.action_space.sample()\n",
        "\n",
        "        novo_estado, recompensa, done, info = env.step(action)\n",
        "\n",
        "        # Atualizar tabela Q\n",
        "        tabela_q[estado, action] = tabela_q[estado, action] * (1 - taxa_de_aprendizado) + \\\n",
        "                                    taxa_de_aprendizado * (recompensa + taxa_de_desconto * np.max(tabela_q[novo_estado, :]))\n",
        "\n",
        "        estado = novo_estado\n",
        "        recompensas_episodio_atual += recompensa\n",
        "\n",
        "        if done == True:\n",
        "            break\n",
        "\n",
        "        # Atualizar taxa de exploração\n",
        "        taxa_exploration = min_taxa_exploration + \\\n",
        "                           (max_taxa_exploration - min_taxa_exploration) * np.exp(-taxa_de_decaimento_da_exploração * episodio)\n",
        "\n",
        "    todas_recompensas.append(recompensas_episodio_atual)\n",
        "\n",
        "# Calcular a recompensa média de um total de 1000 episódios\n",
        "media_total_recompensas = np.array_split(np.array(todas_recompensas), num_episodios / 1000)\n",
        "count = 1000\n"
      ],
      "metadata": {
        "id": "v1MfrAxdd6c3"
      },
      "execution_count": 64,
      "outputs": []
    },
    {
      "cell_type": "code",
      "source": [
        "print(\"RECOMPENSA MEDIA DE TODOS OS EPISODIOS:\")\n",
        "for r in media_total_recompensas:\n",
        "    print(count, \": \", str(sum(r/1000)))\n",
        "    count += 1000\n",
        "\n",
        "#print atualização da tabela Q\n",
        "print(\"\\n\\n********TABELA_Q********\\n\")\n",
        "print(tabela_q)"
      ],
      "metadata": {
        "colab": {
          "base_uri": "https://localhost:8080/"
        },
        "id": "ysWCmOGn2eA_",
        "outputId": "4a2e40d4-f695-4ade-c498-af1b51a160e1"
      },
      "execution_count": 65,
      "outputs": [
        {
          "output_type": "stream",
          "name": "stdout",
          "text": [
            "RECOMPENSA MEDIA DE TODOS OS EPISODIOS:\n",
            "1000 :  0.014000000000000005\n",
            "2000 :  0.016000000000000007\n",
            "3000 :  0.012000000000000004\n",
            "4000 :  0.01900000000000001\n",
            "5000 :  0.022000000000000013\n",
            "6000 :  0.012000000000000004\n",
            "7000 :  0.015000000000000006\n",
            "8000 :  0.013000000000000005\n",
            "9000 :  0.012000000000000004\n",
            "10000 :  0.013000000000000005\n",
            "\n",
            "\n",
            "********TABELA_Q********\n",
            "\n",
            "[[0.46449805 0.45893462 0.46189622 0.45059824]\n",
            " [0.33167514 0.31635897 0.18020581 0.4449936 ]\n",
            " [0.43459588 0.42800669 0.42727653 0.42454966]\n",
            " [0.32941302 0.28782056 0.33114385 0.41653914]\n",
            " [0.47545505 0.30351853 0.27213404 0.22779415]\n",
            " [0.         0.         0.         0.        ]\n",
            " [0.46918248 0.27698777 0.26281341 0.09519044]\n",
            " [0.         0.         0.         0.        ]\n",
            " [0.28603817 0.3348572  0.34783939 0.498748  ]\n",
            " [0.31480063 0.60006007 0.41044777 0.48397244]\n",
            " [0.64810911 0.57840012 0.43728679 0.31414195]\n",
            " [0.         0.         0.         0.        ]\n",
            " [0.         0.         0.         0.        ]\n",
            " [0.3402221  0.48657311 0.69061501 0.36008724]\n",
            " [0.70146001 0.84959107 0.80961185 0.68942135]\n",
            " [0.         0.         0.         0.        ]]\n"
          ]
        }
      ]
    },
    {
      "cell_type": "code",
      "source": [
        "for episodio in range(5):\n",
        "  estado = env.reset()\n",
        "  done = False\n",
        "  print(\"*******episodio \", episodio+1, \"*****\\n\\n\\n\\n\")\n",
        "  time.sleep(1)\n",
        "  for passo in range(num_passos_por_episodio):\n",
        "    clear_output(wait=True)\n",
        "    env.render()\n",
        "    time.sleep(0.3)\n",
        "\n",
        "    action =  np.argmax(tabela_q[estado,:])\n",
        "    novo_estado,recompensa,done,info = env.step(action)\n",
        "\n",
        "    if done:\n",
        "      clear_output(wait=True)\n",
        "      env.render()\n",
        "      if recompensa == 1:\n",
        "        print(\"*****PARABENS!!! Você venceu*****\")\n",
        "        time.sleep(3)\n",
        "      else:\n",
        "        print(\"*****GAME OVER*****\")\n",
        "        time.sleep(3)\n",
        "      clear_output(wait=True)\n",
        "      break\n",
        "\n",
        "    estado = novo_estado\n",
        "\n",
        "env.close()"
      ],
      "metadata": {
        "colab": {
          "base_uri": "https://localhost:8080/"
        },
        "id": "aGvEJ1VEG-f-",
        "outputId": "6a336643-82d5-4d59-9b68-7162d862b429"
      },
      "execution_count": 66,
      "outputs": [
        {
          "output_type": "stream",
          "name": "stdout",
          "text": [
            "*****PARABENS!!! Você venceu*****\n"
          ]
        }
      ]
    }
  ]
}